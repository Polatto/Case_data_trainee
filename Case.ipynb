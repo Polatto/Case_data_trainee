{
 "cells": [
  {
   "cell_type": "code",
   "execution_count": 2,
   "metadata": {},
   "outputs": [],
   "source": [
    "# Importando as libraries\n",
    "\n",
    "import requests\n",
    "import pandas as pd\n",
    "import json\n",
    "from sqlalchemy import create_engine, Column, Integer, String, Float, Date, MetaData, Table\n",
    "from sqlalchemy.orm import declarative_base, sessionmaker\n",
    "import psycopg2\n"
   ]
  },
  {
   "cell_type": "code",
   "execution_count": 105,
   "metadata": {},
   "outputs": [],
   "source": [
    "# Criando dicionários com os endpoints e seus descritivos separados por temas\n",
    "\n",
    "indicadores_utilidade = {\n",
    "    1207:  \"PIB em R$ correntes\",\n",
    "    21774: \"População\",\n",
    "    21775: \"PIB per capita em R$ correntes\",\n",
    "    1619:  \"Salário Mínimo\",\n",
    "    433\t:  \"Índice nacional de preços ao consumidor-amplo (IPCA)\"\n",
    "}\n",
    "\n",
    "indicadores_emprego = {\n",
    "    24369: \"Taxa de desocupação - PNADC\",\n",
    "    24370: \"Pessoas em idade de trabalhar - PNADC\",\n",
    "    24371: \"Empregados no setor privado e público - PNADC\",\n",
    "    24372: \"Empregados no setor público - PNADC\",\n",
    "    24373: \"Empregado por conta própria - PNADC\",\n",
    "    24374: \"Empregadores - PNADC\",\n",
    "    24375: \"Empregados no setor privado - Com carteira - PNADC\",\n",
    "    24376: \"Empregados no setor privado - Sem Carteira - PNADC\",\n",
    "    24377: \"Empregados no setor privado - Total - PNADC\",\n",
    "    24378: \"População na força de trabalho - PNADC\",\n",
    "    24379: \"Pessoas ocupadas - PNADC\",\n",
    "    24380: \"Pessoas desocupadas - PNADC\",\n",
    "    28543: \"População ocupada com rendimento\"\n",
    "}\n",
    "\n",
    "indicadores_rendimento_habitual = {\n",
    "    24382: \"Rendimento médio real habitual das pessoas ocupadas - Total - PNADC\",\n",
    "    24383: \"Rendimento médio real habitual das pessoas ocupadas - Com carteira - PNADC\",\n",
    "    24384: \"Rendimento médio real habitual das pessoas ocupadas - Sem carteira - PNADC\",\n",
    "    24385: \"Rendimento médio real habitual das pessoas ocupadas - Setor privado - PNADC\",\n",
    "    24386: \"Rendimento médio real habitual das pessoas ocupadas - Setor público - PNADC\",\n",
    "    24387: \"Rendimento médio real habitual das pessoas ocupadas - Conta própria - PNADC\",\n",
    "    24388: \"Rendimento médio real habitual das pessoas ocupadas - Empregadores - PNADC\",\n",
    "    24399: \"Rendimento médio real habitual das pessoas ocupadas - Setor privado e público - PNADC\"\n",
    "}"
   ]
  },
  {
   "cell_type": "code",
   "execution_count": 106,
   "metadata": {},
   "outputs": [],
   "source": [
    "# Definição das variáveis relevantes\n",
    "\n",
    "# Dicionário com os grupos de endpoints e os temas respectivos\n",
    "grupos_endpoints = {\n",
    "    \"utilidades\": [1207, 21774, 21775, 1619, 433],\n",
    "    \"emprego\": [24369, 24370, 24371, 24372, 24373, 24374,24375,24376,24377,24378,24379,24380,28543],\n",
    "    \"rendimento_habitual\": [24382, 24383, 24384, 24385, 24386, 24387, 24388, 24399],\n",
    "}\n",
    "\n",
    "# Datas de início e fim para a consulta\n",
    "data_inicial = \"01/01/2015\"\n",
    "data_final = \"\"\n",
    "\n",
    "# URL base da API\n",
    "BASE_URL = \"https://api.bcb.gov.br/dados/serie/bcdata.sgs.{}/dados?formato=json&dataInicial={}&dataFinal={}\""
   ]
  },
  {
   "cell_type": "code",
   "execution_count": 107,
   "metadata": {},
   "outputs": [],
   "source": [
    "# Definição das funções relevantes\n",
    "\n",
    "# Função para pegar os dados da API SGS e trandormar em um dataframe\n",
    "def obter_dados_api(chave):\n",
    "    url = BASE_URL.format(chave, data_inicial, data_final)\n",
    "    response = requests.get(url)\n",
    "\n",
    "    if response.status_code == 200:\n",
    "        data = response.json()\n",
    "        return pd.DataFrame(data)\n",
    "    else:\n",
    "        print(f\"Erro ao buscar dados para a chave {chave}\")\n",
    "        return None\n",
    "\n",
    "# Função para fazer o processamento inicial dos dados (lidar com os valores nulls, modificar os tipos de variáveis e renomeação das colunas)\n",
    "def processar_dados(df, chave):\n",
    "    if df is None or df.empty:\n",
    "        return None\n",
    "\n",
    "    df[\"data\"] = pd.to_datetime(df[\"data\"], dayfirst=True)\n",
    "    df[\"valor\"] = pd.to_numeric(df[\"valor\"], errors=\"coerce\").fillna(0)\n",
    "    df = df.rename(columns={\"valor\": str(chave)})\n",
    "\n",
    "    return df\n",
    "\n",
    "# Função que utiliza as anteriores para obter e processar um grupo de endpoints e criar um df concatenado de seu respectivo tema\n",
    "def processar_grupo(endpoints):\n",
    "    dfs = [processar_dados(obter_dados_api(chave), chave) for chave in endpoints]\n",
    "    dfs = [df for df in dfs if df is not None]  # Remove valores None\n",
    "\n",
    "    if dfs:\n",
    "        # Garante que todos os DataFrames usem a coluna 'data' como índice\n",
    "        for df in dfs:\n",
    "            df.set_index(\"data\", inplace=True)\n",
    "        \n",
    "        # Concatena mantendo um único índice (a data)\n",
    "        return pd.concat(dfs, axis=1).reset_index()\n",
    "    return None\n",
    "\n",
    "# Função que executa o fluxo principal do código\n",
    "def main():\n",
    "    resultados = {}\n",
    "\n",
    "    for tema, endpoints in grupos_endpoints.items():\n",
    "        df_grupo = processar_grupo(endpoints)\n",
    "        if df_grupo is not None:\n",
    "            resultados[tema] = df_grupo\n",
    "            print(f\"✅ Dados do grupo '{tema}' processados com sucesso!\")\n",
    "        else:\n",
    "            print(f\"⚠️ Nenhum dado válido para o grupo '{tema}'.\")\n",
    "\n",
    "    return resultados\n",
    "\n"
   ]
  },
  {
   "cell_type": "code",
   "execution_count": 108,
   "metadata": {},
   "outputs": [
    {
     "name": "stdout",
     "output_type": "stream",
     "text": [
      "✅ Dados do grupo 'utilidades' processados com sucesso!\n",
      "✅ Dados do grupo 'emprego' processados com sucesso!\n",
      "✅ Dados do grupo 'rendimento_habitual' processados com sucesso!\n",
      "\n",
      "📊 Exemplo de DataFrame para 'emprego':\n",
      "          data  24369   24370  24371  24372  24373  24374  24375  24376  \\\n",
      "0   2015-01-01    6.9  159848  65074  11147  21248   3846  37542  10565   \n",
      "1   2015-02-01    7.5  160018  64596  11061  21224   3871  37288  10391   \n",
      "2   2015-03-01    8.0  160189  64137  11031  21244   3966  37051  10218   \n",
      "3   2015-04-01    8.1  160354  64224  11159  21404   3932  37068  10191   \n",
      "4   2015-05-01    8.3  160525  64165  11138  21521   3867  36979  10248   \n",
      "..         ...    ...     ...    ...    ...    ...    ...    ...    ...   \n",
      "117 2024-10-01    6.2  176568  72260  12840  25678   4340  39021  14433   \n",
      "118 2024-11-01    6.1  176689  72387  12847  25861   4350  39139  14404   \n",
      "119 2024-12-01    6.2  176810  72129  12751  26026   4346  39237  14209   \n",
      "120 2025-01-01    6.5  176930  71505  12476  25816   4320  39329  13879   \n",
      "121 2025-02-01    6.8  177051  71150  12351  25867   4305  39560  13542   \n",
      "\n",
      "     24377   24378   24379  24380   28543  \n",
      "0    48107   99616   92743   6873   89893  \n",
      "1    47679   99818   92308   7510   89385  \n",
      "2    47269  100007   91962   8045   89038  \n",
      "3    47259  100327   92174   8153   89289  \n",
      "4    47227  100438   92147   8290   89269  \n",
      "..     ...     ...     ...    ...     ...  \n",
      "117  53454  110450  103610   6839  102184  \n",
      "118  53543  110673  103903   6770  102508  \n",
      "119  53446  110640  103818   6823  102398  \n",
      "120  53208  110172  102969   7204  101558  \n",
      "121  53102  110134  102662   7472  101252  \n",
      "\n",
      "[122 rows x 14 columns]\n"
     ]
    }
   ],
   "source": [
    "# Executar a função principal\n",
    "if __name__ == \"__main__\":\n",
    "    dataframes_por_tema = main()\n",
    "\n",
    "    # Exemplo: Acessando um DataFrame específico\n",
    "    print(\"\\n📊 Exemplo de DataFrame para 'emprego':\")\n",
    "    print(dataframes_por_tema.get(\"emprego\", \"Nenhum dado encontrado.\"))"
   ]
  },
  {
   "cell_type": "code",
   "execution_count": 139,
   "metadata": {},
   "outputs": [
    {
     "name": "stdout",
     "output_type": "stream",
     "text": [
      "✅ Engine created successfully!\n"
     ]
    }
   ],
   "source": [
    "# Realizando a conexão do Python com o PostgreSQL usando o sqlalchemy\n",
    "\n",
    "USERNAME = \"Case_trainee\"\n",
    "PASSWORD = \"041700\"\n",
    "HOST = \"localhost\"  # Ou endereço do servidor\n",
    "PORT = \"5432\"\n",
    "DATABASE = \"indicadores_teste\"\n",
    "\n",
    "# Criando a engine do SQLAlchemy\n",
    "try:\n",
    "    engine = create_engine(\n",
    "        f\"postgresql+psycopg2://{USERNAME}:{PASSWORD}@{HOST}:{PORT}/{DATABASE}\",\n",
    "        connect_args={\"options\": \"-c client_encoding=UTF8\"}\n",
    "    )\n",
    "    print(\"✅ Engine created successfully!\")\n",
    "except Exception as e:\n",
    "    print(f\"❌ Engine creation failed: {e}\")\n",
    "\n"
   ]
  },
  {
   "cell_type": "code",
   "execution_count": 125,
   "metadata": {},
   "outputs": [],
   "source": [
    "# Função para inserir DataFrame no PostgreSQL\n",
    "def inserir_dataframe(df, tabela_nome):\n",
    "    df.to_sql(tabela_nome, engine, if_exists='append', index=False)\n",
    "    print(f\"✅ Dados inseridos na tabela {tabela_nome}\")"
   ]
  }
 ],
 "metadata": {
  "kernelspec": {
   "display_name": "Python 3",
   "language": "python",
   "name": "python3"
  },
  "language_info": {
   "codemirror_mode": {
    "name": "ipython",
    "version": 3
   },
   "file_extension": ".py",
   "mimetype": "text/x-python",
   "name": "python",
   "nbconvert_exporter": "python",
   "pygments_lexer": "ipython3",
   "version": "3.13.2"
  }
 },
 "nbformat": 4,
 "nbformat_minor": 2
}
