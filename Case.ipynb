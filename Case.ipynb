{
 "cells": [
  {
   "cell_type": "code",
   "execution_count": null,
   "metadata": {},
   "outputs": [],
   "source": [
    "import requests\n",
    "import pandas as pd\n",
    "import json"
   ]
  },
  {
   "cell_type": "code",
   "execution_count": 8,
   "metadata": {},
   "outputs": [
    {
     "data": {
      "text/plain": [
       "200"
      ]
     },
     "execution_count": 8,
     "metadata": {},
     "output_type": "execute_result"
    }
   ],
   "source": [
    "# https://api.bcb.gov.br/dados/serie/bcdata.sgs.1/dados?formato=json\n",
    "\n",
    "# X = 25239\n",
    "\n",
    "# r = requests.get('https://api.bcb.gov.br/dados/serie/bcdata.sgs.' + str(X) +'/dados?formato=json')\n",
    "\n",
    "r = requests.get('https://api.bcb.gov.br/dados/serie/bcdata.sgs.25239/dados?formato=json')\n",
    "\n",
    "r.status_code"
   ]
  },
  {
   "cell_type": "code",
   "execution_count": null,
   "metadata": {},
   "outputs": [],
   "source": [
    "# Useful Information\n",
    "\n",
    "# 1207  PIB em R$ correntes\n",
    "# 21774 População\n",
    "# 21775 PIB per capita em R$ correntes\n",
    "# 1619\tSalário Mínimo\n",
    "\n",
    "# Employment\n",
    "\n",
    "# 24369\tTaxa de desocupação - PNADC\n",
    "# 24370\tPessoas em idade de trabalhar - PNADC\n",
    "# 24371\tEmpregados no setor privado e público - PNADC\n",
    "# 24372 Empregados no setor público - PNADC\n",
    "# 24373\tEmpregado por conta própria - PNADC\n",
    "# 24374\tEmpregadores - PNADC\n",
    "# 24375\tEmpregados no setor privado - Com carteira - PNADC\n",
    "# 24376\tEmpregados no setor privado - Sem Carteira - PNADC\n",
    "# 24377\tEmpregados no setor privado - Total - PNADC\n",
    "# 24378\tPopulação na força de trabalho - PNADC\n",
    "# 24379\tPessoas ocupadas - PNADC\n",
    "# 24380\tPessoas desocupadas - PNADC\n",
    "# 28543\tPopulação ocupada com rendimento\n",
    "\n",
    "# 10790 Rendimento médio real efetivo das pessoas ocupadas - Total\n",
    "# 10791 Rendimento médio real efetivo das pessoas ocupadas - Com carteira\n",
    "# 10792 Rendimento médio real efetivo das pessoas ocupadas - Sem carteira\n",
    "# 10793 Rendimento médio real efetivo das pessoas ocupadas - Conta própria\n",
    "# 10794 Rendimento médio real efetivo das pessoas ocupadas - Setor privado\n",
    "# 10795 Rendimento médio real efetivo das pessoas ocupadas - Setor público\n",
    "\n",
    "\n",
    "# Real habitually average earnings\n",
    "\n",
    "# 24382\tRendimento médio real habitual das pessoas ocupadas - Total - PNADC\n",
    "# 24383\tRendimento médio real habitual das pessoas ocupadas - Com carteira - PNADC\n",
    "# 24384\tRendimento médio real habitual das pessoas ocupadas - Sem carteira - PNADC\n",
    "# 24385\tRendimento médio real habitual das pessoas ocupadas - Setor privado - PNADC\n",
    "# 24386\tRendimento médio real habitual das pessoas ocupadas - Setor público - PNADC\n",
    "# 24387\tRendimento médio real habitual das pessoas ocupadas - Conta própria - PNADC\n",
    "# 24388\tRendimento médio real habitual das pessoas ocupadas - Empregadores - PNADC\n",
    "# 24399\tRendimento médio real habitual das pessoas ocupadas - Setor privado e público - PNADC\n",
    "\n",
    "# Household Disposable Income\n",
    "\n",
    "# 29023\tRenda disponível das famílias\n",
    "# 29025\tRenda disponível das famílias – deflacionada pelo IPCA\n"
   ]
  },
  {
   "cell_type": "code",
   "execution_count": 75,
   "metadata": {},
   "outputs": [
    {
     "name": "stderr",
     "output_type": "stream",
     "text": [
      "C:\\Users\\marck\\AppData\\Local\\Temp\\ipykernel_13012\\685075582.py:1: FutureWarning: Passing literal json to 'read_json' is deprecated and will be removed in a future version. To read from a literal string, wrap it in a 'StringIO' object.\n",
      "  df = pd.read_json(r.text)\n"
     ]
    },
    {
     "data": {
      "text/html": [
       "<div>\n",
       "<style scoped>\n",
       "    .dataframe tbody tr th:only-of-type {\n",
       "        vertical-align: middle;\n",
       "    }\n",
       "\n",
       "    .dataframe tbody tr th {\n",
       "        vertical-align: top;\n",
       "    }\n",
       "\n",
       "    .dataframe thead th {\n",
       "        text-align: right;\n",
       "    }\n",
       "</style>\n",
       "<table border=\"1\" class=\"dataframe\">\n",
       "  <thead>\n",
       "    <tr style=\"text-align: right;\">\n",
       "      <th></th>\n",
       "      <th>data</th>\n",
       "      <th>valor</th>\n",
       "    </tr>\n",
       "  </thead>\n",
       "  <tbody>\n",
       "    <tr>\n",
       "      <th>0</th>\n",
       "      <td>01/01/1992</td>\n",
       "      <td>100.91</td>\n",
       "    </tr>\n",
       "    <tr>\n",
       "      <th>1</th>\n",
       "      <td>01/02/1992</td>\n",
       "      <td>100.55</td>\n",
       "    </tr>\n",
       "    <tr>\n",
       "      <th>2</th>\n",
       "      <td>01/03/1992</td>\n",
       "      <td>100.19</td>\n",
       "    </tr>\n",
       "    <tr>\n",
       "      <th>3</th>\n",
       "      <td>01/04/1992</td>\n",
       "      <td>99.90</td>\n",
       "    </tr>\n",
       "    <tr>\n",
       "      <th>4</th>\n",
       "      <td>01/05/1992</td>\n",
       "      <td>100.00</td>\n",
       "    </tr>\n",
       "    <tr>\n",
       "      <th>5</th>\n",
       "      <td>01/06/1992</td>\n",
       "      <td>99.98</td>\n",
       "    </tr>\n",
       "    <tr>\n",
       "      <th>6</th>\n",
       "      <td>01/07/1992</td>\n",
       "      <td>99.85</td>\n",
       "    </tr>\n",
       "    <tr>\n",
       "      <th>7</th>\n",
       "      <td>01/08/1992</td>\n",
       "      <td>99.69</td>\n",
       "    </tr>\n",
       "    <tr>\n",
       "      <th>8</th>\n",
       "      <td>01/09/1992</td>\n",
       "      <td>99.70</td>\n",
       "    </tr>\n",
       "    <tr>\n",
       "      <th>9</th>\n",
       "      <td>01/10/1992</td>\n",
       "      <td>99.49</td>\n",
       "    </tr>\n",
       "    <tr>\n",
       "      <th>10</th>\n",
       "      <td>01/11/1992</td>\n",
       "      <td>99.25</td>\n",
       "    </tr>\n",
       "    <tr>\n",
       "      <th>11</th>\n",
       "      <td>01/12/1992</td>\n",
       "      <td>98.04</td>\n",
       "    </tr>\n",
       "  </tbody>\n",
       "</table>\n",
       "</div>"
      ],
      "text/plain": [
       "          data   valor\n",
       "0   01/01/1992  100.91\n",
       "1   01/02/1992  100.55\n",
       "2   01/03/1992  100.19\n",
       "3   01/04/1992   99.90\n",
       "4   01/05/1992  100.00\n",
       "5   01/06/1992   99.98\n",
       "6   01/07/1992   99.85\n",
       "7   01/08/1992   99.69\n",
       "8   01/09/1992   99.70\n",
       "9   01/10/1992   99.49\n",
       "10  01/11/1992   99.25\n",
       "11  01/12/1992   98.04"
      ]
     },
     "execution_count": 75,
     "metadata": {},
     "output_type": "execute_result"
    }
   ],
   "source": [
    "df = pd.read_json(r.text)\n",
    "df.head(12)"
   ]
  },
  {
   "cell_type": "code",
   "execution_count": 76,
   "metadata": {},
   "outputs": [
    {
     "name": "stdout",
     "output_type": "stream",
     "text": [
      "<class 'pandas.core.frame.DataFrame'>\n",
      "RangeIndex: 336 entries, 0 to 335\n",
      "Data columns (total 2 columns):\n",
      " #   Column  Non-Null Count  Dtype  \n",
      "---  ------  --------------  -----  \n",
      " 0   data    336 non-null    object \n",
      " 1   valor   336 non-null    float64\n",
      "dtypes: float64(1), object(1)\n",
      "memory usage: 5.4+ KB\n"
     ]
    }
   ],
   "source": [
    "df.info()"
   ]
  },
  {
   "cell_type": "code",
   "execution_count": 78,
   "metadata": {},
   "outputs": [],
   "source": [
    "df['data'] = pd.to_datetime(df['data'], dayfirst=True)"
   ]
  },
  {
   "cell_type": "code",
   "execution_count": 79,
   "metadata": {},
   "outputs": [],
   "source": [
    "df['data'] = df['data'].dt.strftime('%Y-%m-%d')"
   ]
  },
  {
   "cell_type": "code",
   "execution_count": 80,
   "metadata": {},
   "outputs": [
    {
     "data": {
      "text/html": [
       "<div>\n",
       "<style scoped>\n",
       "    .dataframe tbody tr th:only-of-type {\n",
       "        vertical-align: middle;\n",
       "    }\n",
       "\n",
       "    .dataframe tbody tr th {\n",
       "        vertical-align: top;\n",
       "    }\n",
       "\n",
       "    .dataframe thead th {\n",
       "        text-align: right;\n",
       "    }\n",
       "</style>\n",
       "<table border=\"1\" class=\"dataframe\">\n",
       "  <thead>\n",
       "    <tr style=\"text-align: right;\">\n",
       "      <th></th>\n",
       "      <th>data</th>\n",
       "      <th>valor</th>\n",
       "    </tr>\n",
       "  </thead>\n",
       "  <tbody>\n",
       "    <tr>\n",
       "      <th>0</th>\n",
       "      <td>1992-01-01</td>\n",
       "      <td>100.91</td>\n",
       "    </tr>\n",
       "    <tr>\n",
       "      <th>1</th>\n",
       "      <td>1992-02-01</td>\n",
       "      <td>100.55</td>\n",
       "    </tr>\n",
       "    <tr>\n",
       "      <th>2</th>\n",
       "      <td>1992-03-01</td>\n",
       "      <td>100.19</td>\n",
       "    </tr>\n",
       "    <tr>\n",
       "      <th>3</th>\n",
       "      <td>1992-04-01</td>\n",
       "      <td>99.90</td>\n",
       "    </tr>\n",
       "    <tr>\n",
       "      <th>4</th>\n",
       "      <td>1992-05-01</td>\n",
       "      <td>100.00</td>\n",
       "    </tr>\n",
       "    <tr>\n",
       "      <th>5</th>\n",
       "      <td>1992-06-01</td>\n",
       "      <td>99.98</td>\n",
       "    </tr>\n",
       "    <tr>\n",
       "      <th>6</th>\n",
       "      <td>1992-07-01</td>\n",
       "      <td>99.85</td>\n",
       "    </tr>\n",
       "    <tr>\n",
       "      <th>7</th>\n",
       "      <td>1992-08-01</td>\n",
       "      <td>99.69</td>\n",
       "    </tr>\n",
       "    <tr>\n",
       "      <th>8</th>\n",
       "      <td>1992-09-01</td>\n",
       "      <td>99.70</td>\n",
       "    </tr>\n",
       "    <tr>\n",
       "      <th>9</th>\n",
       "      <td>1992-10-01</td>\n",
       "      <td>99.49</td>\n",
       "    </tr>\n",
       "    <tr>\n",
       "      <th>10</th>\n",
       "      <td>1992-11-01</td>\n",
       "      <td>99.25</td>\n",
       "    </tr>\n",
       "    <tr>\n",
       "      <th>11</th>\n",
       "      <td>1992-12-01</td>\n",
       "      <td>98.04</td>\n",
       "    </tr>\n",
       "  </tbody>\n",
       "</table>\n",
       "</div>"
      ],
      "text/plain": [
       "          data   valor\n",
       "0   1992-01-01  100.91\n",
       "1   1992-02-01  100.55\n",
       "2   1992-03-01  100.19\n",
       "3   1992-04-01   99.90\n",
       "4   1992-05-01  100.00\n",
       "5   1992-06-01   99.98\n",
       "6   1992-07-01   99.85\n",
       "7   1992-08-01   99.69\n",
       "8   1992-09-01   99.70\n",
       "9   1992-10-01   99.49\n",
       "10  1992-11-01   99.25\n",
       "11  1992-12-01   98.04"
      ]
     },
     "execution_count": 80,
     "metadata": {},
     "output_type": "execute_result"
    }
   ],
   "source": [
    "df.head(12)"
   ]
  },
  {
   "cell_type": "code",
   "execution_count": 85,
   "metadata": {},
   "outputs": [
    {
     "data": {
      "text/plain": [
       "True"
      ]
     },
     "execution_count": 85,
     "metadata": {},
     "output_type": "execute_result"
    }
   ],
   "source": [
    "df_missing = df[df.isnull().any(axis=1) | (df == \"\").any(axis=1)]\n",
    "df_missing.empty"
   ]
  }
 ],
 "metadata": {
  "kernelspec": {
   "display_name": "Python 3",
   "language": "python",
   "name": "python3"
  },
  "language_info": {
   "codemirror_mode": {
    "name": "ipython",
    "version": 3
   },
   "file_extension": ".py",
   "mimetype": "text/x-python",
   "name": "python",
   "nbconvert_exporter": "python",
   "pygments_lexer": "ipython3",
   "version": "3.13.2"
  }
 },
 "nbformat": 4,
 "nbformat_minor": 2
}
